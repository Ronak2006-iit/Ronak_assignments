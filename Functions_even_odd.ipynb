{
  "nbformat": 4,
  "nbformat_minor": 0,
  "metadata": {
    "colab": {
      "provenance": []
    },
    "kernelspec": {
      "name": "python3",
      "display_name": "Python 3"
    },
    "language_info": {
      "name": "python"
    }
  },
  "cells": [
    {
      "cell_type": "code",
      "execution_count": 19,
      "metadata": {
        "colab": {
          "base_uri": "https://localhost:8080/"
        },
        "id": "lyKoUOHOLjzE",
        "outputId": "bfc66ce9-7f28-4cd7-ea16-d4fe46e7f72e"
      },
      "outputs": [
        {
          "output_type": "stream",
          "name": "stdout",
          "text": [
            "2\n",
            "5\n"
          ]
        }
      ],
      "source": [
        "def lesser_of_two_evens(a,b):\n",
        "    if a%2==0 and b%2==0:\n",
        "      if a<b:\n",
        "        print(a)\n",
        "      else:\n",
        "        print(b)\n",
        "    else:\n",
        "      if a>b:\n",
        "        print(a)\n",
        "      else:\n",
        "        print(b)\n",
        "# Check\n",
        "lesser_of_two_evens(2,4)\n",
        "# Check\n",
        "lesser_of_two_evens(2,5)"
      ]
    },
    {
      "cell_type": "code",
      "source": [],
      "metadata": {
        "id": "NWoeNviaNoTO"
      },
      "execution_count": null,
      "outputs": []
    }
  ]
}