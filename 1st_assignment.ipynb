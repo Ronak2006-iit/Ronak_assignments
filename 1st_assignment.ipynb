{
  "nbformat": 4,
  "nbformat_minor": 0,
  "metadata": {
    "colab": {
      "provenance": []
    },
    "kernelspec": {
      "name": "python3",
      "display_name": "Python 3"
    },
    "language_info": {
      "name": "python"
    }
  },
  "cells": [
    {
      "cell_type": "code",
      "execution_count": null,
      "metadata": {
        "id": "P9yGacEUJ7oS"
      },
      "outputs": [],
      "source": []
    },
    {
      "cell_type": "code",
      "execution_count": null,
      "metadata": {
        "colab": {
          "base_uri": "https://localhost:8080/"
        },
        "id": "lyKoUOHOLjzE",
        "outputId": "bfc66ce9-7f28-4cd7-ea16-d4fe46e7f72e"
      },
      "outputs": [
        {
          "output_type": "stream",
          "name": "stdout",
          "text": [
            "2\n",
            "5\n"
          ]
        }
      ],
      "source": [
        "def lesser_of_two_evens(a,b):\n",
        "    if a%2==0 and b%2==0:\n",
        "      if a<b:\n",
        "        print(a)\n",
        "      else:\n",
        "        print(b)\n",
        "    else:\n",
        "      if a>b:\n",
        "        print(a)\n",
        "      else:\n",
        "        print(b)\n",
        "# Check\n",
        "lesser_of_two_evens(2,4)\n",
        "# Check\n",
        "lesser_of_two_evens(2,5)"
      ]
    },
    {
      "cell_type": "code",
      "source": [
        "def animal_crackers(text):\n",
        "    words = text.split()\n",
        "    print(words[0][0] == words[1][0])\n",
        "# Chec\n",
        "animal_crackers('Levelheaded Llama')\n",
        "# Check\n",
        "animal_crackers('Crazy Kangaroo')"
      ],
      "metadata": {
        "colab": {
          "base_uri": "https://localhost:8080/"
        },
        "id": "NWoeNviaNoTO",
        "outputId": "23ee8463-8b8a-4bbf-b1d0-70e38c0c70ba"
      },
      "execution_count": null,
      "outputs": [
        {
          "output_type": "stream",
          "name": "stdout",
          "text": [
            "True\n",
            "False\n"
          ]
        }
      ]
    },
    {
      "cell_type": "markdown",
      "source": [
        "MAKES TWENTY: Given two integers, return True if the sum of the integers is 20 or if one of the integers is 20. If not, return False\n",
        "makes_twenty(20,10) --> True\n",
        "makes_twenty(12,8) --> True\n",
        "makes_twenty(2,3) --> False"
      ],
      "metadata": {
        "id": "VF7N8ZLzXxjz"
      }
    },
    {
      "cell_type": "code",
      "source": [
        "def makes_twenty(n1,n2):\n",
        "    if n1+n2==20 or n1==20 or n2==20:\n",
        "      print(\"True\")\n",
        "    else:\n",
        "      print(\"false\")\n",
        "# Check\n",
        "makes_twenty(20,10)\n",
        "# Check\n",
        "makes_twenty(2,3)"
      ],
      "metadata": {
        "colab": {
          "base_uri": "https://localhost:8080/"
        },
        "id": "MvXfM_b-Xwix",
        "outputId": "5a4e9d0f-05e9-44cf-d427-9cdf8874ec1a"
      },
      "execution_count": null,
      "outputs": [
        {
          "output_type": "stream",
          "name": "stdout",
          "text": [
            "True\n",
            "True\n"
          ]
        }
      ]
    },
    {
      "cell_type": "markdown",
      "source": [
        "OLD MACDONALD: Write a function that capitalizes the first and fourth letters of a name\n",
        "\n",
        "old_macdonald('macdonald') --> MacDonald"
      ],
      "metadata": {
        "id": "pFIaFma_ZNsH"
      }
    },
    {
      "cell_type": "code",
      "source": [
        "def old_macdonald(name):\n",
        "   result = name[0].upper() + name[1:3] + name[3].upper() + name[4:]\n",
        "   print(result)\n",
        "old_macdonald('macdonald')"
      ],
      "metadata": {
        "colab": {
          "base_uri": "https://localhost:8080/"
        },
        "id": "lhxzfuToZOAz",
        "outputId": "0083b94d-2c4d-4def-a2a8-30550e1440bb"
      },
      "execution_count": null,
      "outputs": [
        {
          "output_type": "stream",
          "name": "stdout",
          "text": [
            "MacDonald\n"
          ]
        }
      ]
    },
    {
      "cell_type": "markdown",
      "source": [
        "MASTER YODA: Given a sentence, return a sentence with the words reversed\n",
        "master_yoda('I am home') --> 'home am I'\n",
        "master_yoda('We are ready') --> 'ready are We'\n",
        "Note: The .join() method may be useful here. The .join() method allows you to join together strings in a list with some connector string. For example, some uses of the .join() method:\n",
        "\n",
        ">>> \"--\".join(['a','b','c'])\n",
        ">>> 'a--b--c'\n",
        "This means if you had a list of words you wanted to turn back into a sentence, you could just join them with a single space string:\n",
        "\n",
        ">>> \" \".join(['Hello','world'])\n",
        ">>> \"Hello world"
      ],
      "metadata": {
        "id": "ev71l5NCe8va"
      }
    },
    {
      "cell_type": "code",
      "source": [
        "def master_yoda(text):\n",
        "    words = text.split()\n",
        "    reversed_words = []\n",
        "\n",
        "    for word in words:\n",
        "        #print(word)\n",
        "        reversed_words.insert(0, word)  # Inserts each word at the beginning\n",
        "\n",
        "    print(' '.join(reversed_words))\n",
        "\n",
        "master_yoda(\"Python is fun\")  # Output: \"fun is Python\"\n",
        "\n"
      ],
      "metadata": {
        "colab": {
          "base_uri": "https://localhost:8080/"
        },
        "id": "F3JncRgXe9Qj",
        "outputId": "27d3c3a4-c423-4cc8-f60b-1ba74b189da5"
      },
      "execution_count": null,
      "outputs": [
        {
          "output_type": "stream",
          "name": "stdout",
          "text": [
            "fun is Python\n"
          ]
        }
      ]
    },
    {
      "cell_type": "markdown",
      "source": [
        "ALMOST THERE: Given an integer n, return True if n is within 10 of either 100 or 200\n",
        "almost_there(90) --> True\n",
        "almost_there(104) --> True\n",
        "almost_there(150) --> False\n",
        "almost_there(209) --> True"
      ],
      "metadata": {
        "id": "n6InhA_zD2r_"
      }
    },
    {
      "cell_type": "code",
      "source": [
        "def almost_there(n):\n",
        "  if 90<=n<=110 or 190<=n<=210:\n",
        "    print(\"true\")\n",
        "  else:\n",
        "    print(\"false\")\n",
        "\n",
        "almost_there(196)\n",
        "almost_there(108)"
      ],
      "metadata": {
        "colab": {
          "base_uri": "https://localhost:8080/"
        },
        "id": "DOrHhQbAD3H5",
        "outputId": "f2b422e4-c5f9-4c82-8bc2-77abbc59dded"
      },
      "execution_count": null,
      "outputs": [
        {
          "output_type": "stream",
          "name": "stdout",
          "text": [
            "true\n",
            "true\n"
          ]
        }
      ]
    },
    {
      "cell_type": "markdown",
      "source": [],
      "metadata": {
        "id": "bTUAiyCvXL6c"
      }
    },
    {
      "cell_type": "code",
      "source": [],
      "metadata": {
        "id": "ZbrxcEH3sMpN"
      },
      "execution_count": null,
      "outputs": []
    },
    {
      "cell_type": "code",
      "source": [
        "def has_33(nums):\n",
        "    for i in range(len(nums)-1):\n",
        "     if nums[i] ==3 and nums[i+1]==3:\n",
        "      print(\"true\")\n",
        "\n",
        "has_33([1,2,3,3,5,6,4])\n"
      ],
      "metadata": {
        "colab": {
          "base_uri": "https://localhost:8080/"
        },
        "id": "8uR0pC_kXMU-",
        "outputId": "2d9e64d6-d160-46cf-8e41-0d8878a55382"
      },
      "execution_count": null,
      "outputs": [
        {
          "output_type": "stream",
          "name": "stdout",
          "text": [
            "true\n"
          ]
        }
      ]
    },
    {
      "cell_type": "code",
      "source": [
        "def paper_doll(text):\n",
        "    result = ''\n",
        "    for char in text:\n",
        "      result = result + char*3\n",
        "    print(result)\n",
        "paper_doll(\"Hello\")"
      ],
      "metadata": {
        "colab": {
          "base_uri": "https://localhost:8080/"
        },
        "id": "vivkZdNrYdCY",
        "outputId": "fec194a5-acc8-48be-f100-dea3e5dba4f6"
      },
      "execution_count": null,
      "outputs": [
        {
          "output_type": "stream",
          "name": "stdout",
          "text": [
            "HHHeeellllllooo\n"
          ]
        }
      ]
    },
    {
      "cell_type": "code",
      "source": [
        "def blackjack(a,b,c):\n",
        "  sum = a + b + c\n",
        "  if sum<=21:\n",
        "    return sum\n",
        "  else:\n",
        "    if a==11 or b==11 or c==11:\n",
        "      sum = sum - 10\n",
        "      return sum\n",
        "    else :\n",
        "      print(\"bust\")\n",
        "# Check\n",
        "blackjack(9,9,11)"
      ],
      "metadata": {
        "colab": {
          "base_uri": "https://localhost:8080/"
        },
        "id": "B3skjnw7x9hZ",
        "outputId": "778b668a-5455-4a69-9b35-84364504ce32"
      },
      "execution_count": null,
      "outputs": [
        {
          "output_type": "execute_result",
          "data": {
            "text/plain": [
              "19"
            ]
          },
          "metadata": {},
          "execution_count": 12
        }
      ]
    },
    {
      "cell_type": "code",
      "source": [],
      "metadata": {
        "id": "Aal5nzR7yLg2"
      },
      "execution_count": null,
      "outputs": []
    },
    {
      "cell_type": "code",
      "source": [
        "def spy_game(nums):\n",
        "    code = [0, 0, 7]\n",
        "    for num in nums:\n",
        "        if num == code[0]:\n",
        "            code.pop(0)\n",
        "        if len(code) == 0:\n",
        "            return True\n",
        "    return False\n"
      ],
      "metadata": {
        "id": "BAWKWtwvRHLK"
      },
      "execution_count": null,
      "outputs": []
    },
    {
      "cell_type": "markdown",
      "source": [
        "The second assignment"
      ],
      "metadata": {
        "id": "dRofH-1Clqda"
      }
    },
    {
      "cell_type": "markdown",
      "source": [
        "st = 'Print only the words that start with s in this sentence'"
      ],
      "metadata": {
        "id": "MkpHuUn2luKX"
      }
    },
    {
      "cell_type": "code",
      "source": [
        "st = 'Print only the words that start with s in this sentence'\n",
        "i = st.split()\n",
        "for num in i:\n",
        "  if num[0]=='s':\n",
        "    print(num)\n"
      ],
      "metadata": {
        "colab": {
          "base_uri": "https://localhost:8080/"
        },
        "id": "1te-ZIG_lueU",
        "outputId": "29ff488e-24f8-4930-b58f-b7c00fd73b9f"
      },
      "execution_count": null,
      "outputs": [
        {
          "output_type": "stream",
          "name": "stdout",
          "text": [
            "start\n",
            "s\n",
            "sentence\n"
          ]
        }
      ]
    },
    {
      "cell_type": "markdown",
      "source": [
        "\n",
        "\n",
        "Use range() to print all the even numbers from 0 to 10."
      ],
      "metadata": {
        "id": "Lo2k7sfNRGf7"
      }
    },
    {
      "cell_type": "code",
      "source": [
        "for num in range(0, 11, 2):\n",
        "    print(num)\n"
      ],
      "metadata": {
        "colab": {
          "base_uri": "https://localhost:8080/"
        },
        "id": "D9Gjc5wIp3TY",
        "outputId": "474d797b-8cc3-4e04-bee1-cfc0385f08d6"
      },
      "execution_count": null,
      "outputs": [
        {
          "output_type": "stream",
          "name": "stdout",
          "text": [
            "0\n",
            "2\n",
            "4\n",
            "6\n",
            "8\n",
            "10\n"
          ]
        }
      ]
    },
    {
      "cell_type": "markdown",
      "source": [],
      "metadata": {
        "id": "SZt_Ojquqe_u"
      }
    },
    {
      "cell_type": "code",
      "source": [
        "[num for num in range(1,51) if num%3==0]"
      ],
      "metadata": {
        "colab": {
          "base_uri": "https://localhost:8080/"
        },
        "id": "ATEYIQD5rQEU",
        "outputId": "abfbe9f9-e132-4d93-b4a0-2a9a19a617e9"
      },
      "execution_count": null,
      "outputs": [
        {
          "output_type": "execute_result",
          "data": {
            "text/plain": [
              "[3, 6, 9, 12, 15, 18, 21, 24, 27, 30, 33, 36, 39, 42, 45, 48]"
            ]
          },
          "metadata": {},
          "execution_count": 11
        }
      ]
    },
    {
      "cell_type": "markdown",
      "source": [
        "st = 'Print every word in this sentence that has an even number of letters'"
      ],
      "metadata": {
        "id": "1Di5ZBXPrq8A"
      }
    },
    {
      "cell_type": "code",
      "source": [
        "st = 'Print every word in this sentence that has an even number of letters'\n",
        "i = st.split()\n",
        "for num in i :\n",
        "  if len(num)%2 == 0:\n",
        "    print(num)"
      ],
      "metadata": {
        "colab": {
          "base_uri": "https://localhost:8080/"
        },
        "id": "ZjFiTE2qrse0",
        "outputId": "07e85ee6-5ef6-4b55-9c31-d4c1367af98b"
      },
      "execution_count": null,
      "outputs": [
        {
          "output_type": "stream",
          "name": "stdout",
          "text": [
            "word\n",
            "in\n",
            "this\n",
            "sentence\n",
            "that\n",
            "an\n",
            "even\n",
            "number\n",
            "of\n"
          ]
        }
      ]
    },
    {
      "cell_type": "code",
      "source": [
        "for num in range(1,101):\n",
        "  if num%3 == 0:\n",
        "    print(\"Fizz\")\n",
        "  if num%5 == 0:\n",
        "    print(\"Buzz\")\n",
        "  if num%3 == 0 and num%5 == 0:\n",
        "    print(\"FizzBuzz\")\n",
        "  else:\n",
        "    print(num)"
      ],
      "metadata": {
        "colab": {
          "base_uri": "https://localhost:8080/"
        },
        "id": "Uf44GYFKsHob",
        "outputId": "07bbb54c-08b3-47be-c659-d951d70316a3"
      },
      "execution_count": null,
      "outputs": [
        {
          "output_type": "stream",
          "name": "stdout",
          "text": [
            "1\n",
            "2\n",
            "Fizz\n",
            "3\n",
            "4\n",
            "Buzz\n",
            "5\n",
            "Fizz\n",
            "6\n",
            "7\n",
            "8\n",
            "Fizz\n",
            "9\n",
            "Buzz\n",
            "10\n",
            "11\n",
            "Fizz\n",
            "12\n",
            "13\n",
            "14\n",
            "Fizz\n",
            "Buzz\n",
            "FizzBuzz\n",
            "16\n",
            "17\n",
            "Fizz\n",
            "18\n",
            "19\n",
            "Buzz\n",
            "20\n",
            "Fizz\n",
            "21\n",
            "22\n",
            "23\n",
            "Fizz\n",
            "24\n",
            "Buzz\n",
            "25\n",
            "26\n",
            "Fizz\n",
            "27\n",
            "28\n",
            "29\n",
            "Fizz\n",
            "Buzz\n",
            "FizzBuzz\n",
            "31\n",
            "32\n",
            "Fizz\n",
            "33\n",
            "34\n",
            "Buzz\n",
            "35\n",
            "Fizz\n",
            "36\n",
            "37\n",
            "38\n",
            "Fizz\n",
            "39\n",
            "Buzz\n",
            "40\n",
            "41\n",
            "Fizz\n",
            "42\n",
            "43\n",
            "44\n",
            "Fizz\n",
            "Buzz\n",
            "FizzBuzz\n",
            "46\n",
            "47\n",
            "Fizz\n",
            "48\n",
            "49\n",
            "Buzz\n",
            "50\n",
            "Fizz\n",
            "51\n",
            "52\n",
            "53\n",
            "Fizz\n",
            "54\n",
            "Buzz\n",
            "55\n",
            "56\n",
            "Fizz\n",
            "57\n",
            "58\n",
            "59\n",
            "Fizz\n",
            "Buzz\n",
            "FizzBuzz\n",
            "61\n",
            "62\n",
            "Fizz\n",
            "63\n",
            "64\n",
            "Buzz\n",
            "65\n",
            "Fizz\n",
            "66\n",
            "67\n",
            "68\n",
            "Fizz\n",
            "69\n",
            "Buzz\n",
            "70\n",
            "71\n",
            "Fizz\n",
            "72\n",
            "73\n",
            "74\n",
            "Fizz\n",
            "Buzz\n",
            "FizzBuzz\n",
            "76\n",
            "77\n",
            "Fizz\n",
            "78\n",
            "79\n",
            "Buzz\n",
            "80\n",
            "Fizz\n",
            "81\n",
            "82\n",
            "83\n",
            "Fizz\n",
            "84\n",
            "Buzz\n",
            "85\n",
            "86\n",
            "Fizz\n",
            "87\n",
            "88\n",
            "89\n",
            "Fizz\n",
            "Buzz\n",
            "FizzBuzz\n",
            "91\n",
            "92\n",
            "Fizz\n",
            "93\n",
            "94\n",
            "Buzz\n",
            "95\n",
            "Fizz\n",
            "96\n",
            "97\n",
            "98\n",
            "Fizz\n",
            "99\n",
            "Buzz\n",
            "100\n"
          ]
        }
      ]
    },
    {
      "cell_type": "code",
      "source": [
        "st = 'Create a list of the first letters of every word in this string'\n",
        "first_letters = [word[0] for word in st.split()]\n",
        "print(first_letters)\n"
      ],
      "metadata": {
        "id": "UjrPyQThxgmg"
      },
      "execution_count": null,
      "outputs": []
    }
  ]
}