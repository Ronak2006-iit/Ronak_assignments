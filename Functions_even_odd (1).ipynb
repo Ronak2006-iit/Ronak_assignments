{
  "nbformat": 4,
  "nbformat_minor": 0,
  "metadata": {
    "colab": {
      "provenance": []
    },
    "kernelspec": {
      "name": "python3",
      "display_name": "Python 3"
    },
    "language_info": {
      "name": "python"
    }
  },
  "cells": [
    {
      "cell_type": "code",
      "execution_count": 19,
      "metadata": {
        "colab": {
          "base_uri": "https://localhost:8080/"
        },
        "id": "lyKoUOHOLjzE",
        "outputId": "bfc66ce9-7f28-4cd7-ea16-d4fe46e7f72e"
      },
      "outputs": [
        {
          "output_type": "stream",
          "name": "stdout",
          "text": [
            "2\n",
            "5\n"
          ]
        }
      ],
      "source": [
        "def lesser_of_two_evens(a,b):\n",
        "    if a%2==0 and b%2==0:\n",
        "      if a<b:\n",
        "        print(a)\n",
        "      else:\n",
        "        print(b)\n",
        "    else:\n",
        "      if a>b:\n",
        "        print(a)\n",
        "      else:\n",
        "        print(b)\n",
        "# Check\n",
        "lesser_of_two_evens(2,4)\n",
        "# Check\n",
        "lesser_of_two_evens(2,5)"
      ]
    },
    {
      "cell_type": "code",
      "source": [
        "def animal_crackers(text):\n",
        "    words = text.split()\n",
        "    print(words[0][0] == words[1][0])\n",
        "# Chec\n",
        "animal_crackers('Levelheaded Llama')\n",
        "# Check\n",
        "animal_crackers('Crazy Kangaroo')"
      ],
      "metadata": {
        "colab": {
          "base_uri": "https://localhost:8080/"
        },
        "id": "NWoeNviaNoTO",
        "outputId": "23ee8463-8b8a-4bbf-b1d0-70e38c0c70ba"
      },
      "execution_count": 26,
      "outputs": [
        {
          "output_type": "stream",
          "name": "stdout",
          "text": [
            "True\n",
            "False\n"
          ]
        }
      ]
    },
    {
      "cell_type": "markdown",
      "source": [
        "MAKES TWENTY: Given two integers, return True if the sum of the integers is 20 or if one of the integers is 20. If not, return False\n",
        "makes_twenty(20,10) --> True\n",
        "makes_twenty(12,8) --> True\n",
        "makes_twenty(2,3) --> False"
      ],
      "metadata": {
        "id": "VF7N8ZLzXxjz"
      }
    },
    {
      "cell_type": "code",
      "source": [
        "def makes_twenty(n1,n2):\n",
        "    if n1+n2==20 or n1==20 or n2==20:\n",
        "      print(\"True\")\n",
        "    else:\n",
        "      print(\"false\")\n",
        "# Check\n",
        "makes_twenty(20,10)\n",
        "# Check\n",
        "makes_twenty(2,3)"
      ],
      "metadata": {
        "colab": {
          "base_uri": "https://localhost:8080/"
        },
        "id": "MvXfM_b-Xwix",
        "outputId": "5a4e9d0f-05e9-44cf-d427-9cdf8874ec1a"
      },
      "execution_count": 29,
      "outputs": [
        {
          "output_type": "stream",
          "name": "stdout",
          "text": [
            "True\n",
            "True\n"
          ]
        }
      ]
    },
    {
      "cell_type": "markdown",
      "source": [
        "OLD MACDONALD: Write a function that capitalizes the first and fourth letters of a name\n",
        "\n",
        "old_macdonald('macdonald') --> MacDonald"
      ],
      "metadata": {
        "id": "pFIaFma_ZNsH"
      }
    },
    {
      "cell_type": "code",
      "source": [
        "def old_macdonald(name):\n",
        "   result = name[0].upper() + name[1:3] + name[3].upper() + name[4:]\n",
        "   print(result)\n",
        "old_macdonald('macdonald')"
      ],
      "metadata": {
        "colab": {
          "base_uri": "https://localhost:8080/"
        },
        "id": "lhxzfuToZOAz",
        "outputId": "0083b94d-2c4d-4def-a2a8-30550e1440bb"
      },
      "execution_count": 43,
      "outputs": [
        {
          "output_type": "stream",
          "name": "stdout",
          "text": [
            "MacDonald\n"
          ]
        }
      ]
    },
    {
      "cell_type": "markdown",
      "source": [
        "MASTER YODA: Given a sentence, return a sentence with the words reversed\n",
        "master_yoda('I am home') --> 'home am I'\n",
        "master_yoda('We are ready') --> 'ready are We'\n",
        "Note: The .join() method may be useful here. The .join() method allows you to join together strings in a list with some connector string. For example, some uses of the .join() method:\n",
        "\n",
        ">>> \"--\".join(['a','b','c'])\n",
        ">>> 'a--b--c'\n",
        "This means if you had a list of words you wanted to turn back into a sentence, you could just join them with a single space string:\n",
        "\n",
        ">>> \" \".join(['Hello','world'])\n",
        ">>> \"Hello world"
      ],
      "metadata": {
        "id": "ev71l5NCe8va"
      }
    },
    {
      "cell_type": "code",
      "source": [
        "def master_yoda(text):\n",
        "    words = text.split()\n",
        "    reversed_words = []\n",
        "\n",
        "    for word in words:\n",
        "        #print(word)\n",
        "        reversed_words.insert(0, word)  # Inserts each word at the beginning\n",
        "\n",
        "    print(' '.join(reversed_words))\n",
        "\n",
        "master_yoda(\"Python is fun\")  # Output: \"fun is Python\"\n",
        "\n"
      ],
      "metadata": {
        "colab": {
          "base_uri": "https://localhost:8080/"
        },
        "id": "F3JncRgXe9Qj",
        "outputId": "27d3c3a4-c423-4cc8-f60b-1ba74b189da5"
      },
      "execution_count": 22,
      "outputs": [
        {
          "output_type": "stream",
          "name": "stdout",
          "text": [
            "fun is Python\n"
          ]
        }
      ]
    },
    {
      "cell_type": "markdown",
      "source": [
        "ALMOST THERE: Given an integer n, return True if n is within 10 of either 100 or 200\n",
        "almost_there(90) --> True\n",
        "almost_there(104) --> True\n",
        "almost_there(150) --> False\n",
        "almost_there(209) --> True"
      ],
      "metadata": {
        "id": "n6InhA_zD2r_"
      }
    },
    {
      "cell_type": "code",
      "source": [
        "def almost_there(n):\n",
        "  if 90<=n<=110 or 190<=n<=210:\n",
        "    print(\"true\")\n",
        "  else:\n",
        "    print(\"false\")\n",
        "\n",
        "almost_there(196)\n",
        "almost_there(108)"
      ],
      "metadata": {
        "colab": {
          "base_uri": "https://localhost:8080/"
        },
        "id": "DOrHhQbAD3H5",
        "outputId": "f2b422e4-c5f9-4c82-8bc2-77abbc59dded"
      },
      "execution_count": 39,
      "outputs": [
        {
          "output_type": "stream",
          "name": "stdout",
          "text": [
            "true\n",
            "true\n"
          ]
        }
      ]
    },
    {
      "cell_type": "markdown",
      "source": [],
      "metadata": {
        "id": "bTUAiyCvXL6c"
      }
    },
    {
      "cell_type": "code",
      "source": [],
      "metadata": {
        "id": "ZbrxcEH3sMpN"
      },
      "execution_count": null,
      "outputs": []
    },
    {
      "cell_type": "code",
      "source": [
        "def has_33(nums):\n",
        "    for i in range(len(nums)-1):\n",
        "     if nums[i] ==3 and nums[i+1]==3:\n",
        "      print(\"true\")\n",
        "\n",
        "has_33([1,2,3,3,5,6,4])\n"
      ],
      "metadata": {
        "colab": {
          "base_uri": "https://localhost:8080/"
        },
        "id": "8uR0pC_kXMU-",
        "outputId": "2d9e64d6-d160-46cf-8e41-0d8878a55382"
      },
      "execution_count": 62,
      "outputs": [
        {
          "output_type": "stream",
          "name": "stdout",
          "text": [
            "true\n"
          ]
        }
      ]
    },
    {
      "cell_type": "code",
      "source": [
        "def paper_doll(text):\n",
        "    result = ''\n",
        "    for char in text:\n",
        "      result = result + char*3\n",
        "    print(result)\n",
        "paper_doll(\"Hello\")"
      ],
      "metadata": {
        "colab": {
          "base_uri": "https://localhost:8080/"
        },
        "id": "vivkZdNrYdCY",
        "outputId": "fec194a5-acc8-48be-f100-dea3e5dba4f6"
      },
      "execution_count": 63,
      "outputs": [
        {
          "output_type": "stream",
          "name": "stdout",
          "text": [
            "HHHeeellllllooo\n"
          ]
        }
      ]
    },
    {
      "cell_type": "code",
      "source": [
        "def blackjack(a,b,c):\n",
        "  sum = a + b + c\n",
        "  if sum<=21:\n",
        "    return sum\n",
        "  else:\n",
        "    if a==11 or b==11 or c==11:\n",
        "      sum = sum - 10\n",
        "      return sum\n",
        "    else :\n",
        "      print(\"bust\")\n",
        "# Check\n",
        "blackjack(9,9,11)"
      ],
      "metadata": {
        "colab": {
          "base_uri": "https://localhost:8080/"
        },
        "id": "B3skjnw7x9hZ",
        "outputId": "778b668a-5455-4a69-9b35-84364504ce32"
      },
      "execution_count": 12,
      "outputs": [
        {
          "output_type": "execute_result",
          "data": {
            "text/plain": [
              "19"
            ]
          },
          "metadata": {},
          "execution_count": 12
        }
      ]
    },
    {
      "cell_type": "code",
      "source": [],
      "metadata": {
        "id": "Aal5nzR7yLg2"
      },
      "execution_count": null,
      "outputs": []
    },
    {
      "cell_type": "code",
      "source": [
        "def spy_game(nums):\n",
        "    code = [0, 0, 7]\n",
        "    for num in nums:\n",
        "        if num == code[0]:\n",
        "            code.pop(0)\n",
        "        if len(code) == 0:\n",
        "            return True\n",
        "    return False\n"
      ],
      "metadata": {
        "id": "BAWKWtwvRHLK"
      },
      "execution_count": 13,
      "outputs": []
    },
    {
      "cell_type": "markdown",
      "source": [
        "The second assignment"
      ],
      "metadata": {
        "id": "dRofH-1Clqda"
      }
    },
    {
      "cell_type": "markdown",
      "source": [
        "st = 'Print only the words that start with s in this sentence'"
      ],
      "metadata": {
        "id": "MkpHuUn2luKX"
      }
    },
    {
      "cell_type": "code",
      "source": [
        "st = 'Print only the words that start with s in this sentence'\n",
        "i = st.split()\n",
        "for num in i:\n",
        "  if num[0]=='s':\n",
        "    print(num)\n"
      ],
      "metadata": {
        "colab": {
          "base_uri": "https://localhost:8080/"
        },
        "id": "1te-ZIG_lueU",
        "outputId": "29ff488e-24f8-4930-b58f-b7c00fd73b9f"
      },
      "execution_count": 8,
      "outputs": [
        {
          "output_type": "stream",
          "name": "stdout",
          "text": [
            "start\n",
            "s\n",
            "sentence\n"
          ]
        }
      ]
    },
    {
      "cell_type": "markdown",
      "source": [
        "\n",
        "\n",
        "Use range() to print all the even numbers from 0 to 10."
      ],
      "metadata": {
        "id": "Lo2k7sfNRGf7"
      }
    },
    {
      "cell_type": "code",
      "source": [
        "for num in range(0, 11, 2):\n",
        "    print(num)\n"
      ],
      "metadata": {
        "colab": {
          "base_uri": "https://localhost:8080/"
        },
        "id": "D9Gjc5wIp3TY",
        "outputId": "474d797b-8cc3-4e04-bee1-cfc0385f08d6"
      },
      "execution_count": 10,
      "outputs": [
        {
          "output_type": "stream",
          "name": "stdout",
          "text": [
            "0\n",
            "2\n",
            "4\n",
            "6\n",
            "8\n",
            "10\n"
          ]
        }
      ]
    },
    {
      "cell_type": "markdown",
      "source": [],
      "metadata": {
        "id": "SZt_Ojquqe_u"
      }
    },
    {
      "cell_type": "code",
      "source": [
        "[num for num in range(1,51) if num%3==0]"
      ],
      "metadata": {
        "colab": {
          "base_uri": "https://localhost:8080/"
        },
        "id": "ATEYIQD5rQEU",
        "outputId": "abfbe9f9-e132-4d93-b4a0-2a9a19a617e9"
      },
      "execution_count": 11,
      "outputs": [
        {
          "output_type": "execute_result",
          "data": {
            "text/plain": [
              "[3, 6, 9, 12, 15, 18, 21, 24, 27, 30, 33, 36, 39, 42, 45, 48]"
            ]
          },
          "metadata": {},
          "execution_count": 11
        }
      ]
    },
    {
      "cell_type": "markdown",
      "source": [
        "st = 'Print every word in this sentence that has an even number of letters'"
      ],
      "metadata": {
        "id": "1Di5ZBXPrq8A"
      }
    },
    {
      "cell_type": "code",
      "source": [
        "st = 'Print every word in this sentence that has an even number of letters'\n",
        "i = st.split()\n",
        "for num in i :\n",
        "  if len(num)%2 == 0:\n",
        "    print(num)"
      ],
      "metadata": {
        "colab": {
          "base_uri": "https://localhost:8080/"
        },
        "id": "ZjFiTE2qrse0",
        "outputId": "07e85ee6-5ef6-4b55-9c31-d4c1367af98b"
      },
      "execution_count": 13,
      "outputs": [
        {
          "output_type": "stream",
          "name": "stdout",
          "text": [
            "word\n",
            "in\n",
            "this\n",
            "sentence\n",
            "that\n",
            "an\n",
            "even\n",
            "number\n",
            "of\n"
          ]
        }
      ]
    },
    {
      "cell_type": "code",
      "source": [
        "for num in range(1,101):\n",
        "  if num%3 == 0:\n",
        "    print(\"Fizz\")\n",
        "  if num%5 == 0:\n",
        "    print(\"Buzz\")\n",
        "  if num%3 == 0 and num%5 == 0:\n",
        "    print(\"FizzBuzz\")\n",
        "  else:\n",
        "    print(num)"
      ],
      "metadata": {
        "colab": {
          "base_uri": "https://localhost:8080/"
        },
        "id": "Uf44GYFKsHob",
        "outputId": "07bbb54c-08b3-47be-c659-d951d70316a3"
      },
      "execution_count": 17,
      "outputs": [
        {
          "output_type": "stream",
          "name": "stdout",
          "text": [
            "1\n",
            "2\n",
            "Fizz\n",
            "3\n",
            "4\n",
            "Buzz\n",
            "5\n",
            "Fizz\n",
            "6\n",
            "7\n",
            "8\n",
            "Fizz\n",
            "9\n",
            "Buzz\n",
            "10\n",
            "11\n",
            "Fizz\n",
            "12\n",
            "13\n",
            "14\n",
            "Fizz\n",
            "Buzz\n",
            "FizzBuzz\n",
            "16\n",
            "17\n",
            "Fizz\n",
            "18\n",
            "19\n",
            "Buzz\n",
            "20\n",
            "Fizz\n",
            "21\n",
            "22\n",
            "23\n",
            "Fizz\n",
            "24\n",
            "Buzz\n",
            "25\n",
            "26\n",
            "Fizz\n",
            "27\n",
            "28\n",
            "29\n",
            "Fizz\n",
            "Buzz\n",
            "FizzBuzz\n",
            "31\n",
            "32\n",
            "Fizz\n",
            "33\n",
            "34\n",
            "Buzz\n",
            "35\n",
            "Fizz\n",
            "36\n",
            "37\n",
            "38\n",
            "Fizz\n",
            "39\n",
            "Buzz\n",
            "40\n",
            "41\n",
            "Fizz\n",
            "42\n",
            "43\n",
            "44\n",
            "Fizz\n",
            "Buzz\n",
            "FizzBuzz\n",
            "46\n",
            "47\n",
            "Fizz\n",
            "48\n",
            "49\n",
            "Buzz\n",
            "50\n",
            "Fizz\n",
            "51\n",
            "52\n",
            "53\n",
            "Fizz\n",
            "54\n",
            "Buzz\n",
            "55\n",
            "56\n",
            "Fizz\n",
            "57\n",
            "58\n",
            "59\n",
            "Fizz\n",
            "Buzz\n",
            "FizzBuzz\n",
            "61\n",
            "62\n",
            "Fizz\n",
            "63\n",
            "64\n",
            "Buzz\n",
            "65\n",
            "Fizz\n",
            "66\n",
            "67\n",
            "68\n",
            "Fizz\n",
            "69\n",
            "Buzz\n",
            "70\n",
            "71\n",
            "Fizz\n",
            "72\n",
            "73\n",
            "74\n",
            "Fizz\n",
            "Buzz\n",
            "FizzBuzz\n",
            "76\n",
            "77\n",
            "Fizz\n",
            "78\n",
            "79\n",
            "Buzz\n",
            "80\n",
            "Fizz\n",
            "81\n",
            "82\n",
            "83\n",
            "Fizz\n",
            "84\n",
            "Buzz\n",
            "85\n",
            "86\n",
            "Fizz\n",
            "87\n",
            "88\n",
            "89\n",
            "Fizz\n",
            "Buzz\n",
            "FizzBuzz\n",
            "91\n",
            "92\n",
            "Fizz\n",
            "93\n",
            "94\n",
            "Buzz\n",
            "95\n",
            "Fizz\n",
            "96\n",
            "97\n",
            "98\n",
            "Fizz\n",
            "99\n",
            "Buzz\n",
            "100\n"
          ]
        }
      ]
    },
    {
      "cell_type": "code",
      "source": [
        "st = 'Create a list of the first letters of every word in this string'\n",
        "first_letters = [word[0] for word in st.split()]\n",
        "print(first_letters)\n"
      ],
      "metadata": {
        "id": "UjrPyQThxgmg"
      },
      "execution_count": null,
      "outputs": []
    },
    {
      "cell_type": "markdown",
      "source": [],
      "metadata": {
        "id": "i9Zwi7n7xjzI"
      }
    },
    {
      "cell_type": "code",
      "source": [
        "import numpy as np\n",
        "arr = np.array([[1,2,4],[7,13,21]])\n",
        "\n",
        "print(arr)\n",
        "print(\"Shape:\", arr.shape)"
      ],
      "metadata": {
        "colab": {
          "base_uri": "https://localhost:8080/"
        },
        "id": "dWuQ891KxkKY",
        "outputId": "f6864ca7-25eb-48d2-b1ea-f3651142076b"
      },
      "execution_count": 23,
      "outputs": [
        {
          "output_type": "stream",
          "name": "stdout",
          "text": [
            "[[ 1  2  4]\n",
            " [ 7 13 21]]\n",
            "Shape: (2, 3)\n"
          ]
        }
      ]
    },
    {
      "cell_type": "code",
      "source": [
        "import numpy as np\n",
        "n_rows = 2\n",
        "n_columns = 3\n",
        "\n",
        "x = np.random.randn(n_rows, n_columns)\n",
        "\n",
        "print(x)\n"
      ],
      "metadata": {
        "colab": {
          "base_uri": "https://localhost:8080/"
        },
        "outputId": "63f91ec3-2cc4-489d-8a58-284d13e8d09a",
        "id": "b0v5ttdX6mGX"
      },
      "execution_count": 9,
      "outputs": [
        {
          "output_type": "stream",
          "name": "stdout",
          "text": [
            "[[ 1.05652249  1.44306673 -1.15284467]\n",
            " [ 0.40007918 -1.03474051 -0.4409006 ]]\n"
          ]
        }
      ]
    },
    {
      "cell_type": "code",
      "source": [
        "# < START >\n",
        "# Initialize an array ZERO_ARR of dimensions (4, 5, 2) whose every element is 0\n",
        "ZERO_ARR = np.zeros((4, 5, 2))\n",
        "# < END >\n",
        "\n",
        "print(ZERO_ARR)\n",
        "\n",
        "# < START >\n",
        "# Initialize an array ONE_ARR of dimensions (4, 5, 2) whose every element is 1\n",
        "ONE_ARR = np.ones((4, 5, 2))\n",
        "# < END >\n",
        "\n",
        "print(ONE_ARR)\n"
      ],
      "metadata": {
        "colab": {
          "base_uri": "https://localhost:8080/"
        },
        "id": "GLWOpSuy8OSi",
        "outputId": "c694201e-3fc9-44b4-87c0-6a94c516eddf"
      },
      "execution_count": 10,
      "outputs": [
        {
          "output_type": "stream",
          "name": "stdout",
          "text": [
            "[[[0. 0.]\n",
            "  [0. 0.]\n",
            "  [0. 0.]\n",
            "  [0. 0.]\n",
            "  [0. 0.]]\n",
            "\n",
            " [[0. 0.]\n",
            "  [0. 0.]\n",
            "  [0. 0.]\n",
            "  [0. 0.]\n",
            "  [0. 0.]]\n",
            "\n",
            " [[0. 0.]\n",
            "  [0. 0.]\n",
            "  [0. 0.]\n",
            "  [0. 0.]\n",
            "  [0. 0.]]\n",
            "\n",
            " [[0. 0.]\n",
            "  [0. 0.]\n",
            "  [0. 0.]\n",
            "  [0. 0.]\n",
            "  [0. 0.]]]\n",
            "[[[1. 1.]\n",
            "  [1. 1.]\n",
            "  [1. 1.]\n",
            "  [1. 1.]\n",
            "  [1. 1.]]\n",
            "\n",
            " [[1. 1.]\n",
            "  [1. 1.]\n",
            "  [1. 1.]\n",
            "  [1. 1.]\n",
            "  [1. 1.]]\n",
            "\n",
            " [[1. 1.]\n",
            "  [1. 1.]\n",
            "  [1. 1.]\n",
            "  [1. 1.]\n",
            "  [1. 1.]]\n",
            "\n",
            " [[1. 1.]\n",
            "  [1. 1.]\n",
            "  [1. 1.]\n",
            "  [1. 1.]\n",
            "  [1. 1.]]]\n"
          ]
        }
      ]
    },
    {
      "cell_type": "code",
      "source": [
        "y = np.array([[1, 2, 3],\n",
        "              [4, 5, 6]])\n",
        "\n",
        "# < START >\n",
        "# Create a new array y_transpose that is the transpose of matrix y\n",
        "y_transpose = np.transpose(y)\n",
        "# < END >\n",
        "\n",
        "print(y_transpose)\n",
        "\n",
        "# < START >\n",
        "# Create a new array y_flat that contains the same elements as y but has been flattened to a column array\n",
        "y_flat = y.reshape(-1,1)\n",
        "# < END >\n",
        "\n",
        "print(y_flat)"
      ],
      "metadata": {
        "colab": {
          "base_uri": "https://localhost:8080/"
        },
        "id": "aXpGiwbhWjsl",
        "outputId": "62ca8793-b0a6-4d5c-9d0e-94ec49dcdf6f"
      },
      "execution_count": 12,
      "outputs": [
        {
          "output_type": "stream",
          "name": "stdout",
          "text": [
            "[[1 4]\n",
            " [2 5]\n",
            " [3 6]]\n",
            "[[1]\n",
            " [2]\n",
            " [3]\n",
            " [4]\n",
            " [5]\n",
            " [6]]\n"
          ]
        }
      ]
    },
    {
      "cell_type": "code",
      "source": [
        "\n",
        "# Initialize the column matrix here\n",
        "y = np.array([[4],\n",
        "              [27],\n",
        "              [11]])\n",
        "#\n",
        "\n",
        "assert y.shape == (3, 1)\n",
        "# The above line is an assert statement, which halts the program if the given condition evaluates to False.\n",
        "# Assert statements are frequently used in neural network programs to ensure our matrices are of the right dimensions.\n",
        "\n",
        "print(y)\n",
        "\n",
        "#\n",
        "y_new = np.array([[1, 2, 3],\n",
        "              [4, 5, 6]])\n",
        "# Multiply both the arrays here\n",
        "z = np.dot(y_new,y)\n",
        "#\n",
        "assert z.shape == (2, 1)\n",
        "\n",
        "print(z)"
      ],
      "metadata": {
        "colab": {
          "base_uri": "https://localhost:8080/"
        },
        "id": "dywwKb_eYTTi",
        "outputId": "48f078f3-fbe5-422a-c224-f26544de9dd3"
      },
      "execution_count": 17,
      "outputs": [
        {
          "output_type": "stream",
          "name": "stdout",
          "text": [
            "[[ 4]\n",
            " [27]\n",
            " [11]]\n",
            "[[ 91]\n",
            " [217]]\n"
          ]
        }
      ]
    },
    {
      "cell_type": "code",
      "source": [
        "import numpy as np\n",
        "x = np.array([4, 1, 5, 6, 11])\n",
        "\n",
        "#\n",
        "# Create a new array y with the middle 3 elements of x\n",
        "y = x[1:4]\n",
        "#\n",
        "\n",
        "print(y)\n",
        "\n",
        "z = np.array([1, 2, 3, 4, 5, 6, 7, 8, 9, 10])\n",
        "\n",
        "#\n",
        "# Create a new array w with alternating elements of z\n",
        "w = z[::2]\n",
        "#\n",
        "\n",
        "print(w)"
      ],
      "metadata": {
        "colab": {
          "base_uri": "https://localhost:8080/"
        },
        "id": "L-OueZ_xdFb-",
        "outputId": "6f3e3f36-716d-4493-ccb2-afc6024e3bba"
      },
      "execution_count": 2,
      "outputs": [
        {
          "output_type": "stream",
          "name": "stdout",
          "text": [
            "[1 5 6]\n",
            "[1 3 5 7 9]\n"
          ]
        }
      ]
    },
    {
      "cell_type": "code",
      "source": [
        "arr_2d = np.array([[4, 5, 2],\n",
        "          [3, 7, 9],\n",
        "          [1, 4, 5],\n",
        "          [6, 6, 1]])\n",
        "\n",
        "#\n",
        "# Create a 2D array sliced_arr_2d that is of the form [[5, 2], [7, 9], [4, 5]]\n",
        "sliced_arr_2d = arr_2d[1:4, 1:]\n",
        "#\n",
        "\n",
        "print(sliced_arr_2d)\n",
        ""
      ],
      "metadata": {
        "colab": {
          "base_uri": "https://localhost:8080/"
        },
        "id": "LT-_UkSL8jo5",
        "outputId": "41b5cbb9-efac-448f-ecda-5139ecb7d95b"
      },
      "execution_count": 3,
      "outputs": [
        {
          "output_type": "stream",
          "name": "stdout",
          "text": [
            "[[7 9]\n",
            " [4 5]\n",
            " [6 1]]\n"
          ]
        }
      ]
    },
    {
      "cell_type": "code",
      "source": [
        "arr1 = np.array([1, 2, 3, 4])\n",
        "b = 1\n",
        "\n",
        "#\n",
        "# Implement broadcasting to add b to each element of arr1\n",
        "arr1 = arr1 + b\n",
        "#\n",
        "\n",
        "print(arr1)\n",
        "\n",
        "arr2 = np.array([[1, 2, 3],\n",
        "                 [4, 5, 6]])\n",
        "arr3 = np.array([[4],\n",
        "                 [5]])\n",
        "\n",
        "#\n",
        "# Multiply each element of the first row of arr2 by 4 and each element of the second row by 5, using only arr2 and arr3\n",
        "arr2 = arr2 * arr3\n",
        "#\n",
        "\n",
        "print(arr2)"
      ],
      "metadata": {
        "colab": {
          "base_uri": "https://localhost:8080/"
        },
        "id": "aS16rMFJ-5JY",
        "outputId": "b867ad20-c983-4086-c07c-35f5e9fcb534"
      },
      "execution_count": 4,
      "outputs": [
        {
          "output_type": "stream",
          "name": "stdout",
          "text": [
            "[2 3 4 5]\n",
            "[[ 4  8 12]\n",
            " [20 25 30]]\n"
          ]
        }
      ]
    },
    {
      "cell_type": "code",
      "source": [
        "import time\n",
        "\n",
        "arr_nonvectorized = np.random.rand(1000, 1000)\n",
        "arr_vectorized = np.array(arr_nonvectorized) # making a deep copy of the array\n",
        "\n",
        "start_nv = time.time()\n",
        "\n",
        "# Non-vectorized approach\n",
        "#\n",
        "\n",
        "\n",
        "\n",
        "#\n",
        "\n",
        "end_nv = time.time()\n",
        "print(\"Time taken in non-vectorized approach:\", 1000*(end_nv-start_nv), \"ms\")\n",
        "\n",
        "# uncomment and execute the below line to convince yourself that both approaches are doing the same thing\n",
        "# print(arr_nonvectorized)\n",
        "\n",
        "start_v = time.time()\n",
        "\n",
        "# Vectorized approach\n",
        "#\n",
        "\n",
        "#\n",
        "\n",
        "end_v = time.time()\n",
        "print(\"Time taken in vectorized approach:\", 1000*(end_v-start_v), \"ms\")\n",
        "\n",
        "# uncomment and execute the below line to convince yourself that both approaches are doing the same thing\n",
        "# print(arr_vectorized)"
      ],
      "metadata": {
        "id": "MVGZGp2L_Qt7"
      },
      "execution_count": null,
      "outputs": []
    },
    {
      "cell_type": "code",
      "source": [
        "import pandas as pd\n",
        "sal= pd.read_csv(\"C:\\\\Users\\\\ronak\\\\OneDrive\\\\Desktop\\\\Downloads\\\\archive\\\\Salaries.csv\")\n",
        "print(sal.head())"
      ],
      "metadata": {
        "colab": {
          "base_uri": "https://localhost:8080/",
          "height": 353
        },
        "id": "8zH4eHMm9Ip8",
        "outputId": "6ab789ed-7edd-441d-daf3-2785f228b285"
      },
      "execution_count": 13,
      "outputs": [
        {
          "output_type": "error",
          "ename": "FileNotFoundError",
          "evalue": "[Errno 2] No such file or directory: 'C:\\\\Users\\\\ronak\\\\OneDrive\\\\Desktop\\\\Downloads\\\\archive\\\\Salaries.csv'",
          "traceback": [
            "\u001b[0;31m---------------------------------------------------------------------------\u001b[0m",
            "\u001b[0;31mFileNotFoundError\u001b[0m                         Traceback (most recent call last)",
            "\u001b[0;32m<ipython-input-13-4b12d37d9cc9>\u001b[0m in \u001b[0;36m<cell line: 0>\u001b[0;34m()\u001b[0m\n\u001b[1;32m      1\u001b[0m \u001b[0;32mimport\u001b[0m \u001b[0mpandas\u001b[0m \u001b[0;32mas\u001b[0m \u001b[0mpd\u001b[0m\u001b[0;34m\u001b[0m\u001b[0;34m\u001b[0m\u001b[0m\n\u001b[0;32m----> 2\u001b[0;31m \u001b[0msal\u001b[0m\u001b[0;34m=\u001b[0m \u001b[0mpd\u001b[0m\u001b[0;34m.\u001b[0m\u001b[0mread_csv\u001b[0m\u001b[0;34m(\u001b[0m\u001b[0;34m\"C:\\\\Users\\\\ronak\\\\OneDrive\\\\Desktop\\\\Downloads\\\\archive\\\\Salaries.csv\"\u001b[0m\u001b[0;34m)\u001b[0m\u001b[0;34m\u001b[0m\u001b[0;34m\u001b[0m\u001b[0m\n\u001b[0m\u001b[1;32m      3\u001b[0m \u001b[0mprint\u001b[0m\u001b[0;34m(\u001b[0m\u001b[0msal\u001b[0m\u001b[0;34m.\u001b[0m\u001b[0mhead\u001b[0m\u001b[0;34m(\u001b[0m\u001b[0;34m)\u001b[0m\u001b[0;34m)\u001b[0m\u001b[0;34m\u001b[0m\u001b[0;34m\u001b[0m\u001b[0m\n",
            "\u001b[0;32m/usr/local/lib/python3.11/dist-packages/pandas/io/parsers/readers.py\u001b[0m in \u001b[0;36mread_csv\u001b[0;34m(filepath_or_buffer, sep, delimiter, header, names, index_col, usecols, dtype, engine, converters, true_values, false_values, skipinitialspace, skiprows, skipfooter, nrows, na_values, keep_default_na, na_filter, verbose, skip_blank_lines, parse_dates, infer_datetime_format, keep_date_col, date_parser, date_format, dayfirst, cache_dates, iterator, chunksize, compression, thousands, decimal, lineterminator, quotechar, quoting, doublequote, escapechar, comment, encoding, encoding_errors, dialect, on_bad_lines, delim_whitespace, low_memory, memory_map, float_precision, storage_options, dtype_backend)\u001b[0m\n\u001b[1;32m   1024\u001b[0m     \u001b[0mkwds\u001b[0m\u001b[0;34m.\u001b[0m\u001b[0mupdate\u001b[0m\u001b[0;34m(\u001b[0m\u001b[0mkwds_defaults\u001b[0m\u001b[0;34m)\u001b[0m\u001b[0;34m\u001b[0m\u001b[0;34m\u001b[0m\u001b[0m\n\u001b[1;32m   1025\u001b[0m \u001b[0;34m\u001b[0m\u001b[0m\n\u001b[0;32m-> 1026\u001b[0;31m     \u001b[0;32mreturn\u001b[0m \u001b[0m_read\u001b[0m\u001b[0;34m(\u001b[0m\u001b[0mfilepath_or_buffer\u001b[0m\u001b[0;34m,\u001b[0m \u001b[0mkwds\u001b[0m\u001b[0;34m)\u001b[0m\u001b[0;34m\u001b[0m\u001b[0;34m\u001b[0m\u001b[0m\n\u001b[0m\u001b[1;32m   1027\u001b[0m \u001b[0;34m\u001b[0m\u001b[0m\n\u001b[1;32m   1028\u001b[0m \u001b[0;34m\u001b[0m\u001b[0m\n",
            "\u001b[0;32m/usr/local/lib/python3.11/dist-packages/pandas/io/parsers/readers.py\u001b[0m in \u001b[0;36m_read\u001b[0;34m(filepath_or_buffer, kwds)\u001b[0m\n\u001b[1;32m    618\u001b[0m \u001b[0;34m\u001b[0m\u001b[0m\n\u001b[1;32m    619\u001b[0m     \u001b[0;31m# Create the parser.\u001b[0m\u001b[0;34m\u001b[0m\u001b[0;34m\u001b[0m\u001b[0m\n\u001b[0;32m--> 620\u001b[0;31m     \u001b[0mparser\u001b[0m \u001b[0;34m=\u001b[0m \u001b[0mTextFileReader\u001b[0m\u001b[0;34m(\u001b[0m\u001b[0mfilepath_or_buffer\u001b[0m\u001b[0;34m,\u001b[0m \u001b[0;34m**\u001b[0m\u001b[0mkwds\u001b[0m\u001b[0;34m)\u001b[0m\u001b[0;34m\u001b[0m\u001b[0;34m\u001b[0m\u001b[0m\n\u001b[0m\u001b[1;32m    621\u001b[0m \u001b[0;34m\u001b[0m\u001b[0m\n\u001b[1;32m    622\u001b[0m     \u001b[0;32mif\u001b[0m \u001b[0mchunksize\u001b[0m \u001b[0;32mor\u001b[0m \u001b[0miterator\u001b[0m\u001b[0;34m:\u001b[0m\u001b[0;34m\u001b[0m\u001b[0;34m\u001b[0m\u001b[0m\n",
            "\u001b[0;32m/usr/local/lib/python3.11/dist-packages/pandas/io/parsers/readers.py\u001b[0m in \u001b[0;36m__init__\u001b[0;34m(self, f, engine, **kwds)\u001b[0m\n\u001b[1;32m   1618\u001b[0m \u001b[0;34m\u001b[0m\u001b[0m\n\u001b[1;32m   1619\u001b[0m         \u001b[0mself\u001b[0m\u001b[0;34m.\u001b[0m\u001b[0mhandles\u001b[0m\u001b[0;34m:\u001b[0m \u001b[0mIOHandles\u001b[0m \u001b[0;34m|\u001b[0m \u001b[0;32mNone\u001b[0m \u001b[0;34m=\u001b[0m \u001b[0;32mNone\u001b[0m\u001b[0;34m\u001b[0m\u001b[0;34m\u001b[0m\u001b[0m\n\u001b[0;32m-> 1620\u001b[0;31m         \u001b[0mself\u001b[0m\u001b[0;34m.\u001b[0m\u001b[0m_engine\u001b[0m \u001b[0;34m=\u001b[0m \u001b[0mself\u001b[0m\u001b[0;34m.\u001b[0m\u001b[0m_make_engine\u001b[0m\u001b[0;34m(\u001b[0m\u001b[0mf\u001b[0m\u001b[0;34m,\u001b[0m \u001b[0mself\u001b[0m\u001b[0;34m.\u001b[0m\u001b[0mengine\u001b[0m\u001b[0;34m)\u001b[0m\u001b[0;34m\u001b[0m\u001b[0;34m\u001b[0m\u001b[0m\n\u001b[0m\u001b[1;32m   1621\u001b[0m \u001b[0;34m\u001b[0m\u001b[0m\n\u001b[1;32m   1622\u001b[0m     \u001b[0;32mdef\u001b[0m \u001b[0mclose\u001b[0m\u001b[0;34m(\u001b[0m\u001b[0mself\u001b[0m\u001b[0;34m)\u001b[0m \u001b[0;34m->\u001b[0m \u001b[0;32mNone\u001b[0m\u001b[0;34m:\u001b[0m\u001b[0;34m\u001b[0m\u001b[0;34m\u001b[0m\u001b[0m\n",
            "\u001b[0;32m/usr/local/lib/python3.11/dist-packages/pandas/io/parsers/readers.py\u001b[0m in \u001b[0;36m_make_engine\u001b[0;34m(self, f, engine)\u001b[0m\n\u001b[1;32m   1878\u001b[0m                 \u001b[0;32mif\u001b[0m \u001b[0;34m\"b\"\u001b[0m \u001b[0;32mnot\u001b[0m \u001b[0;32min\u001b[0m \u001b[0mmode\u001b[0m\u001b[0;34m:\u001b[0m\u001b[0;34m\u001b[0m\u001b[0;34m\u001b[0m\u001b[0m\n\u001b[1;32m   1879\u001b[0m                     \u001b[0mmode\u001b[0m \u001b[0;34m+=\u001b[0m \u001b[0;34m\"b\"\u001b[0m\u001b[0;34m\u001b[0m\u001b[0;34m\u001b[0m\u001b[0m\n\u001b[0;32m-> 1880\u001b[0;31m             self.handles = get_handle(\n\u001b[0m\u001b[1;32m   1881\u001b[0m                 \u001b[0mf\u001b[0m\u001b[0;34m,\u001b[0m\u001b[0;34m\u001b[0m\u001b[0;34m\u001b[0m\u001b[0m\n\u001b[1;32m   1882\u001b[0m                 \u001b[0mmode\u001b[0m\u001b[0;34m,\u001b[0m\u001b[0;34m\u001b[0m\u001b[0;34m\u001b[0m\u001b[0m\n",
            "\u001b[0;32m/usr/local/lib/python3.11/dist-packages/pandas/io/common.py\u001b[0m in \u001b[0;36mget_handle\u001b[0;34m(path_or_buf, mode, encoding, compression, memory_map, is_text, errors, storage_options)\u001b[0m\n\u001b[1;32m    871\u001b[0m         \u001b[0;32mif\u001b[0m \u001b[0mioargs\u001b[0m\u001b[0;34m.\u001b[0m\u001b[0mencoding\u001b[0m \u001b[0;32mand\u001b[0m \u001b[0;34m\"b\"\u001b[0m \u001b[0;32mnot\u001b[0m \u001b[0;32min\u001b[0m \u001b[0mioargs\u001b[0m\u001b[0;34m.\u001b[0m\u001b[0mmode\u001b[0m\u001b[0;34m:\u001b[0m\u001b[0;34m\u001b[0m\u001b[0;34m\u001b[0m\u001b[0m\n\u001b[1;32m    872\u001b[0m             \u001b[0;31m# Encoding\u001b[0m\u001b[0;34m\u001b[0m\u001b[0;34m\u001b[0m\u001b[0m\n\u001b[0;32m--> 873\u001b[0;31m             handle = open(\n\u001b[0m\u001b[1;32m    874\u001b[0m                 \u001b[0mhandle\u001b[0m\u001b[0;34m,\u001b[0m\u001b[0;34m\u001b[0m\u001b[0;34m\u001b[0m\u001b[0m\n\u001b[1;32m    875\u001b[0m                 \u001b[0mioargs\u001b[0m\u001b[0;34m.\u001b[0m\u001b[0mmode\u001b[0m\u001b[0;34m,\u001b[0m\u001b[0;34m\u001b[0m\u001b[0;34m\u001b[0m\u001b[0m\n",
            "\u001b[0;31mFileNotFoundError\u001b[0m: [Errno 2] No such file or directory: 'C:\\\\Users\\\\ronak\\\\OneDrive\\\\Desktop\\\\Downloads\\\\archive\\\\Salaries.csv'"
          ]
        }
      ]
    },
    {
      "cell_type": "code",
      "source": [],
      "metadata": {
        "id": "zwNsmroTGGrT"
      },
      "execution_count": null,
      "outputs": []
    }
  ]
}